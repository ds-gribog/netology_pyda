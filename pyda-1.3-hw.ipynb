{
 "cells": [
  {
   "cell_type": "markdown",
   "metadata": {},
   "source": [
    "1"
   ]
  },
  {
   "cell_type": "code",
   "execution_count": 1,
   "metadata": {},
   "outputs": [],
   "source": [
    "stats = {'facebook': 55, 'yandex': 120, 'vk': 115, 'google': 99, 'email': 42, 'ok': 98}"
   ]
  },
  {
   "cell_type": "code",
   "execution_count": 4,
   "metadata": {},
   "outputs": [
    {
     "data": {
      "text/plain": [
       "'yandex'"
      ]
     },
     "execution_count": 4,
     "metadata": {},
     "output_type": "execute_result"
    }
   ],
   "source": [
    "sorted(stats.items(), key=lambda x:-x[1])[0][0]"
   ]
  },
  {
   "cell_type": "markdown",
   "metadata": {},
   "source": [
    "2"
   ]
  },
  {
   "cell_type": "code",
   "execution_count": 5,
   "metadata": {},
   "outputs": [],
   "source": [
    "descriptions = [\n",
    "['браслет', 'xiaomi', 'mi', 'band', '2.', 'умный', 'браслет', 'xiaomi', 'mi', 'лидер', 'в', 'линейке', 'xiaomi.', 'фитнес', 'браслет', 'для', 'android', '4.4,', 'ios', '7,', 'экран', 'oled.', 'лучший', 'выбор', 'xiaomi'],\n",
    "['браслет', 'huawei', 'honor', 'band', '3.', 'фитнес', 'браслет', 'влагозащищенный', 'сенсорный', 'экран', 'android,', 'ios', 'мониторинг', 'сна'],\n",
    "['браслет', 'samsung', 'gear', 'fit2', 'pro.', 'влагозащищенный', 'сенсорный', 'amoled-экран', 'мониторинг', 'сна,', 'калорий,', 'новинка', 'samsung'],\n",
    "]"
   ]
  },
  {
   "cell_type": "code",
   "execution_count": 6,
   "metadata": {},
   "outputs": [
    {
     "data": {
      "text/plain": [
       "[5, 1, 1]"
      ]
     },
     "execution_count": 6,
     "metadata": {},
     "output_type": "execute_result"
    }
   ],
   "source": [
    "[len(x)-len(set(x)) for x in descriptions]"
   ]
  },
  {
   "cell_type": "markdown",
   "metadata": {},
   "source": [
    "3"
   ]
  },
  {
   "cell_type": "code",
   "execution_count": 7,
   "metadata": {},
   "outputs": [],
   "source": [
    "stats_list=[]\n",
    "with open('stats.csv') as f:\n",
    "    for line in f:\n",
    "        line= line.strip().split(',')\n",
    "        stats_list.append(line)\n"
   ]
  },
  {
   "cell_type": "code",
   "execution_count": 11,
   "metadata": {},
   "outputs": [
    {
     "name": "stdout",
     "output_type": "stream",
     "text": [
      "Введите длину кортежа в виде числа 3\n",
      "('14', '26376', '3') ['13301']\n"
     ]
    }
   ],
   "source": [
    "\n",
    "cortage_len= int(input('Введите длину кортежа'))\n",
    "stats_dict = {}\n",
    "\n",
    "with open('stats.csv') as f:\n",
    "    for line in f:\n",
    "        line = line.strip().split(',')\n",
    "        if len(line) <= cortage_len:\n",
    "            print('Заданная длина кортежа слишком велика')\n",
    "            break            \n",
    "        stats_dict[tuple(line[:cortage_len])] = line[cortage_len - (len(line)):]\n",
    "        \n",
    "for key, value in stats_dict.items():\n",
    "    print(key, value)\n",
    "    break"
   ]
  }
 ],
 "metadata": {
  "kernelspec": {
   "display_name": "Python 3",
   "language": "python",
   "name": "python3"
  },
  "language_info": {
   "codemirror_mode": {
    "name": "ipython",
    "version": 3
   },
   "file_extension": ".py",
   "mimetype": "text/x-python",
   "name": "python",
   "nbconvert_exporter": "python",
   "pygments_lexer": "ipython3",
   "version": "3.7.3"
  }
 },
 "nbformat": 4,
 "nbformat_minor": 2
}

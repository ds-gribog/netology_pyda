{
 "cells": [
  {
   "cell_type": "code",
   "execution_count": 2,
   "metadata": {},
   "outputs": [],
   "source": [
    "import numpy as np\n",
    "import pandas as pd\n",
    "\n",
    "from sklearn.linear_model import LinearRegression"
   ]
  },
  {
   "cell_type": "markdown",
   "metadata": {},
   "source": [
    "Создадим датасет шанс попадания в аварию:\n",
    "\n",
    "number_of_stripes - кол-во полос (от 1 до 12)\n",
    "\n",
    "avg_speed - средняя скорость за 5мин (от 30 до 300)\n",
    "\n",
    "limit - ограничение скорости (от 30 до 140)\n",
    "\n",
    "chance_of_accident - шанс попаания в аварию"
   ]
  },
  {
   "cell_type": "code",
   "execution_count": 43,
   "metadata": {},
   "outputs": [
    {
     "data": {
      "text/html": [
       "<div>\n",
       "<style scoped>\n",
       "    .dataframe tbody tr th:only-of-type {\n",
       "        vertical-align: middle;\n",
       "    }\n",
       "\n",
       "    .dataframe tbody tr th {\n",
       "        vertical-align: top;\n",
       "    }\n",
       "\n",
       "    .dataframe thead th {\n",
       "        text-align: right;\n",
       "    }\n",
       "</style>\n",
       "<table border=\"1\" class=\"dataframe\">\n",
       "  <thead>\n",
       "    <tr style=\"text-align: right;\">\n",
       "      <th></th>\n",
       "      <th>number_of_stripes</th>\n",
       "      <th>avg_speed</th>\n",
       "      <th>limit</th>\n",
       "      <th>chance_of_accident</th>\n",
       "    </tr>\n",
       "  </thead>\n",
       "  <tbody>\n",
       "    <tr>\n",
       "      <th>0</th>\n",
       "      <td>12</td>\n",
       "      <td>232</td>\n",
       "      <td>64</td>\n",
       "      <td>75.750000</td>\n",
       "    </tr>\n",
       "    <tr>\n",
       "      <th>1</th>\n",
       "      <td>11</td>\n",
       "      <td>71</td>\n",
       "      <td>107</td>\n",
       "      <td>10.598131</td>\n",
       "    </tr>\n",
       "    <tr>\n",
       "      <th>2</th>\n",
       "      <td>6</td>\n",
       "      <td>253</td>\n",
       "      <td>49</td>\n",
       "      <td>109.591837</td>\n",
       "    </tr>\n",
       "    <tr>\n",
       "      <th>3</th>\n",
       "      <td>9</td>\n",
       "      <td>203</td>\n",
       "      <td>44</td>\n",
       "      <td>97.500000</td>\n",
       "    </tr>\n",
       "    <tr>\n",
       "      <th>4</th>\n",
       "      <td>10</td>\n",
       "      <td>140</td>\n",
       "      <td>92</td>\n",
       "      <td>29.478261</td>\n",
       "    </tr>\n",
       "    <tr>\n",
       "      <th>5</th>\n",
       "      <td>9</td>\n",
       "      <td>73</td>\n",
       "      <td>110</td>\n",
       "      <td>10.600000</td>\n",
       "    </tr>\n",
       "  </tbody>\n",
       "</table>\n",
       "</div>"
      ],
      "text/plain": [
       "   number_of_stripes  avg_speed  limit  chance_of_accident\n",
       "0                 12        232     64           75.750000\n",
       "1                 11         71    107           10.598131\n",
       "2                  6        253     49          109.591837\n",
       "3                  9        203     44           97.500000\n",
       "4                 10        140     92           29.478261\n",
       "5                  9         73    110           10.600000"
      ]
     },
     "execution_count": 43,
     "metadata": {},
     "output_type": "execute_result"
    }
   ],
   "source": [
    "n_samples = 550\n",
    "\n",
    "number_of_stripes = np.random.choice(12, n_samples) + 1\n",
    "avg_speed = np.random.choice(271, n_samples) + 30\n",
    "limit = np.random.choice(111, n_samples) + 30\n",
    "\n",
    "chance_of_accident = ((avg_speed*1.1)/limit)*20-4\n",
    "\n",
    "data = pd.DataFrame({'number_of_stripes': number_of_stripes, 'avg_speed': avg_speed, 'limit': limit, 'chance_of_accident': chance_of_accident})\n",
    "data.head(6)"
   ]
  },
  {
   "cell_type": "markdown",
   "metadata": {},
   "source": [
    "Создаем 550 примеров генератором случайных чисел"
   ]
  },
  {
   "cell_type": "code",
   "execution_count": 44,
   "metadata": {},
   "outputs": [
    {
     "name": "stdout",
     "output_type": "stream",
     "text": [
      "number_of_stripes -Min/Max -  1 / 12\n",
      "avg_speed -Min/Max -  30 / 300\n",
      "limit -Min/Max -  30 / 140\n",
      "chance_of_accident -Min/Max -  1.1764705882352944 / 202.0666666666667\n"
     ]
    }
   ],
   "source": [
    "for x in data:\n",
    "    print(x,\"-Min/Max - \",min(data[x]),\"/\",max(data[x]))"
   ]
  },
  {
   "cell_type": "markdown",
   "metadata": {},
   "source": [
    "это просто проверка"
   ]
  },
  {
   "cell_type": "code",
   "execution_count": 45,
   "metadata": {},
   "outputs": [
    {
     "name": "stdout",
     "output_type": "stream",
     "text": [
      "Weights: [ 0.23043507  0.31262127 -0.67922369]\n",
      "Bias: 52.0615033513135\n",
      "Error: 11.130962028829417\n"
     ]
    }
   ],
   "source": [
    "from sklearn.metrics import mean_absolute_error\n",
    "\n",
    "X = data[['number_of_stripes', 'avg_speed', 'limit']]\n",
    "y = data['chance_of_accident']\n",
    "reg = LinearRegression().fit(X, y)\n",
    "print('Weights: {}'.format(reg.coef_))\n",
    "print('Bias: {}'.format(reg.intercept_))\n",
    "\n",
    "pred_values = reg.predict(data[['number_of_stripes', 'avg_speed', 'limit']])\n",
    "print('Error: {}'.format(mean_absolute_error(pred_values, y)))"
   ]
  },
  {
   "cell_type": "markdown",
   "metadata": {},
   "source": [
    "смотрим на ошибку предсказания когда используются все параметры  "
   ]
  },
  {
   "cell_type": "code",
   "execution_count": 46,
   "metadata": {},
   "outputs": [
    {
     "name": "stdout",
     "output_type": "stream",
     "text": [
      "Weights: [ 0.31242887 -0.6774975 ]\n",
      "Bias: 53.50228700965635\n",
      "Error: 11.132261031043033\n"
     ]
    }
   ],
   "source": [
    "X = data[['avg_speed', 'limit']]\n",
    "y = data['chance_of_accident']\n",
    "reg = LinearRegression().fit(X, y)\n",
    "print('Weights: {}'.format(reg.coef_))\n",
    "print('Bias: {}'.format(reg.intercept_))\n",
    "\n",
    "pred_values = reg.predict(data[['avg_speed', 'limit']])\n",
    "print('Error: {}'.format(mean_absolute_error(pred_values, y)))"
   ]
  },
  {
   "cell_type": "markdown",
   "metadata": {},
   "source": [
    "тут взяли только значимые параметры. ошибка даже чуть чуть увеличилась что странно но ладно."
   ]
  },
  {
   "cell_type": "code",
   "execution_count": 47,
   "metadata": {},
   "outputs": [
    {
     "data": {
      "text/html": [
       "<div>\n",
       "<style scoped>\n",
       "    .dataframe tbody tr th:only-of-type {\n",
       "        vertical-align: middle;\n",
       "    }\n",
       "\n",
       "    .dataframe tbody tr th {\n",
       "        vertical-align: top;\n",
       "    }\n",
       "\n",
       "    .dataframe thead th {\n",
       "        text-align: right;\n",
       "    }\n",
       "</style>\n",
       "<table border=\"1\" class=\"dataframe\">\n",
       "  <thead>\n",
       "    <tr style=\"text-align: right;\">\n",
       "      <th></th>\n",
       "      <th>number_of_stripes</th>\n",
       "      <th>avg_speed</th>\n",
       "      <th>limit</th>\n",
       "      <th>chance_of_accident</th>\n",
       "      <th>mult</th>\n",
       "    </tr>\n",
       "  </thead>\n",
       "  <tbody>\n",
       "    <tr>\n",
       "      <th>0</th>\n",
       "      <td>12</td>\n",
       "      <td>232</td>\n",
       "      <td>64</td>\n",
       "      <td>75.750000</td>\n",
       "      <td>3.625000</td>\n",
       "    </tr>\n",
       "    <tr>\n",
       "      <th>1</th>\n",
       "      <td>11</td>\n",
       "      <td>71</td>\n",
       "      <td>107</td>\n",
       "      <td>10.598131</td>\n",
       "      <td>0.663551</td>\n",
       "    </tr>\n",
       "    <tr>\n",
       "      <th>2</th>\n",
       "      <td>6</td>\n",
       "      <td>253</td>\n",
       "      <td>49</td>\n",
       "      <td>109.591837</td>\n",
       "      <td>5.163265</td>\n",
       "    </tr>\n",
       "    <tr>\n",
       "      <th>3</th>\n",
       "      <td>9</td>\n",
       "      <td>203</td>\n",
       "      <td>44</td>\n",
       "      <td>97.500000</td>\n",
       "      <td>4.613636</td>\n",
       "    </tr>\n",
       "    <tr>\n",
       "      <th>4</th>\n",
       "      <td>10</td>\n",
       "      <td>140</td>\n",
       "      <td>92</td>\n",
       "      <td>29.478261</td>\n",
       "      <td>1.521739</td>\n",
       "    </tr>\n",
       "  </tbody>\n",
       "</table>\n",
       "</div>"
      ],
      "text/plain": [
       "   number_of_stripes  avg_speed  limit  chance_of_accident      mult\n",
       "0                 12        232     64           75.750000  3.625000\n",
       "1                 11         71    107           10.598131  0.663551\n",
       "2                  6        253     49          109.591837  5.163265\n",
       "3                  9        203     44           97.500000  4.613636\n",
       "4                 10        140     92           29.478261  1.521739"
      ]
     },
     "execution_count": 47,
     "metadata": {},
     "output_type": "execute_result"
    }
   ],
   "source": [
    "# Создаем новый признак\n",
    "data['mult'] = data['avg_speed'] / data['limit']\n",
    "data.head(5)"
   ]
  },
  {
   "cell_type": "markdown",
   "metadata": {},
   "source": [
    "создали новый признак"
   ]
  },
  {
   "cell_type": "code",
   "execution_count": 48,
   "metadata": {},
   "outputs": [
    {
     "name": "stdout",
     "output_type": "stream",
     "text": [
      "Weights: [22.]\n",
      "Bias: -4.000000000000014\n",
      "Error: 8.293971570145169e-15\n"
     ]
    }
   ],
   "source": [
    "X = data[['mult']]\n",
    "y = data['chance_of_accident']\n",
    "reg = LinearRegression().fit(X, y)\n",
    "print('Weights: {}'.format(reg.coef_))\n",
    "print('Bias: {}'.format(reg.intercept_))\n",
    "\n",
    "pred_values = reg.predict(data[['mult']])\n",
    "print('Error: {}'.format(mean_absolute_error(pred_values, y)))"
   ]
  },
  {
   "cell_type": "markdown",
   "metadata": {},
   "source": [
    "ошибка на сонвоании нового признак значительна меньше предыдущих, значит цель достигнута.\n"
   ]
  }
 ],
 "metadata": {
  "kernelspec": {
   "display_name": "Python 3",
   "language": "python",
   "name": "python3"
  },
  "language_info": {
   "codemirror_mode": {
    "name": "ipython",
    "version": 3
   },
   "file_extension": ".py",
   "mimetype": "text/x-python",
   "name": "python",
   "nbconvert_exporter": "python",
   "pygments_lexer": "ipython3",
   "version": "3.7.3"
  }
 },
 "nbformat": 4,
 "nbformat_minor": 2
}

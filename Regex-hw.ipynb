{
 "cells": [
  {
   "cell_type": "markdown",
   "metadata": {},
   "source": [
    "# Домашнее задание к лекции \"Регулярные выражения\"\n",
    "Для зачета необходимо выполнить 4 задания.  \n",
    "Для зачета с отличием – все."
   ]
  },
  {
   "cell_type": "markdown",
   "metadata": {},
   "source": [
    "## Задание 1"
   ]
  },
  {
   "cell_type": "markdown",
   "metadata": {},
   "source": [
    "Напишите функцию, которая принимает на вход строку и проверяет является ли она валидным транспортным номером. Если да, то функция должна возвращать отдельно номер и регион."
   ]
  },
  {
   "cell_type": "code",
   "execution_count": 27,
   "metadata": {},
   "outputs": [
    {
     "name": "stdout",
     "output_type": "stream",
     "text": [
      "Введите транспортный номер целиком: х343ув145\n",
      "Номер 343, регион 145\n"
     ]
    }
   ],
   "source": [
    "import re\n",
    "\n",
    "def main():\n",
    "    item = input(\"Введите транспортный номер целиком: \").lower()\n",
    "    print(check_car_number(item))\n",
    "    \n",
    "def check_car_number(item):\n",
    "    pattern = r\"([авекмнорстух]{1})([\\d]{3}(?<!000))([авекмнорстух]{2})([\\d]{2,3})\"\n",
    "    result = re.match(pattern, \"\".join(item.split()), flags = re.I)\n",
    "    if result:\n",
    "        return \"Номер {0}, регион {1}\".format(result[2], result[4])\n",
    "    else:\n",
    "        return \"Номерной знак \"\"{0}\"\" не является валидным\".format(item)\n",
    "\n",
    "main()"
   ]
  },
  {
   "cell_type": "markdown",
   "metadata": {},
   "source": [
    "## Задание 2"
   ]
  },
  {
   "cell_type": "markdown",
   "metadata": {},
   "source": [
    "Напишите функцию, которая проверяет e-mail адрес на валидность по стандарту RFC822: http://www.w3.org/Protocols/rfc822/. Для этого постарайтесь написать (в крайнем случае найти) самый полный шаблон для проверки e-mail адресов через регулярное выражение. Разберитесь и напишите примеры, какие ваш шаблон может не охватить."
   ]
  },
  {
   "cell_type": "code",
   "execution_count": 24,
   "metadata": {},
   "outputs": [
    {
     "name": "stdout",
     "output_type": "stream",
     "text": [
      "Введите email: ADA@@as.ad\n",
      "Email invalid\n"
     ]
    }
   ],
   "source": [
    "\n",
    "def email_valid():\n",
    "    address = input(\"Введите email: \")\n",
    "    chek = re.compile(\"(^|\\s)[-a-z0-9_.]+@([-a-z0-9]+\\.)+[a-z]{2,6}(\\s|$)\")\n",
    "    is_valid = chek.match(address)\n",
    "    if is_valid:\n",
    "        print(\"Email valid\")        \n",
    "    else:\n",
    "        print(\"Email invalid\")\n",
    "\n",
    "\n",
    "email_valid()"
   ]
  },
  {
   "cell_type": "markdown",
   "metadata": {},
   "source": [
    "## Задание 3\n",
    "При помощи регулярных выражений напишите функцию, которая будет возвращать акроним переданного в нее текста."
   ]
  },
  {
   "cell_type": "code",
   "execution_count": 17,
   "metadata": {},
   "outputs": [
    {
     "name": "stdout",
     "output_type": "stream",
     "text": [
      "Введите текст, из которого нужно извлечь акроним: ва ФВ 3 вы tu yyh\n"
     ]
    },
    {
     "data": {
      "text/plain": [
       "'Акроним: вФ3вty'"
      ]
     },
     "execution_count": 17,
     "metadata": {},
     "output_type": "execute_result"
    }
   ],
   "source": [
    "import re\n",
    "\n",
    "def acronim():\n",
    "    item = input(\"Введите текст, из которого нужно извлечь акроним: \").strip()\n",
    "    pattern = r\"(?<=[\\S])[\\S]*\\s*\"\n",
    "    result_set = re.split(pattern, item)\n",
    "    return \"Акроним: {0}\".format(''.join(result_set))\n",
    "\n",
    "acronim()"
   ]
  },
  {
   "cell_type": "markdown",
   "metadata": {},
   "source": [
    "## Задание 4\n",
    "Напишите функцию, которая будет удалять все последовательные повторы слов из заданной строки."
   ]
  },
  {
   "cell_type": "code",
   "execution_count": 19,
   "metadata": {},
   "outputs": [
    {
     "name": "stdout",
     "output_type": "stream",
     "text": [
      "Введите текст с повторами:sam sam я я был был там где там где не ты ты ты ты\n"
     ]
    },
    {
     "data": {
      "text/plain": [
       "'sam я был там где там где не ты'"
      ]
     },
     "execution_count": 19,
     "metadata": {},
     "output_type": "execute_result"
    }
   ],
   "source": [
    "\n",
    "def remove_repeating_words():\n",
    "    text=input(\"Введите текст с повторами:\")\n",
    "    return re.sub(r\"(?i)\\b(\\w+)\\b\\s+(?=\\1)\", r\"\", text)\n",
    "remove_repeating_words()"
   ]
  },
  {
   "cell_type": "markdown",
   "metadata": {},
   "source": [
    "## Задание 5\n",
    "Напишите функцию, которая будет проверять номер сотового телефона на валидность, если он валиден, то переводить его в формат:   \n",
    "+7(xxx)-xxx-xx-xx  \n",
    "Постарайтесь предусмотреть как можно больше адекватных форматов изначального ввода номера.\n",
    "Примеры правильных и неправильных форматов:\n",
    "- +1 555 555-55-55;\n",
    "- 5555555555;\n",
    "- 555555555;\n",
    "- 8(555)555-55-55;\n",
    "- +7 555 555 55 55;\n",
    "- 7(555) 555-55-55;\n",
    "- +7 555+555+55+55."
   ]
  },
  {
   "cell_type": "code",
   "execution_count": 41,
   "metadata": {
    "scrolled": true
   },
   "outputs": [
    {
     "name": "stdout",
     "output_type": "stream",
     "text": [
      "number invalid: +1 555 555-55-55\n",
      "number invalid: 555555555\n",
      "number invalid: 5555555555\n",
      "number valid: +7(555)-555-55-55\n",
      "number valid: +7(555)-555-55-55\n",
      "number valid: +7(555)-555-55-55\n",
      "number valid: +7(555)-555-55-55\n"
     ]
    }
   ],
   "source": [
    "tel_list=[\"+1 555 555-55-55\",\n",
    "          \"555555555\",\n",
    "          \"5555555555\",\n",
    "          \"8(555)555-55-55\",\n",
    "          \"+7 555 555 55 55\",\n",
    "          \"7(555) 555-55-55\",\n",
    "          \"+7 555+555+55+55\"]\n",
    "\n",
    "def is_phone_valid(num):\n",
    "    valid_phone =re.compile(r\"^([+\\s]?[78])[- _():=+]*(\\d{3})[- _:=+)]*(\\d{0,3})[- _:=+]*(\\d{0,2})[- _:=+]*(\\d{0,2})\")\n",
    "    is_valid = valid_phone.match(num)\n",
    "    if is_valid:\n",
    "        right_format = r\"+7(\\2)-\\3-\\4-\\5\"\n",
    "        return(\"number valid: \"+re.sub(valid_phone,right_format, num))\n",
    "    else:\n",
    "        return(\"number invalid: \"+num)\n",
    "\n",
    "for num in tel_list:\n",
    "    print(is_phone_valid(num))\n",
    "    \n"
   ]
  }
 ],
 "metadata": {
  "kernelspec": {
   "display_name": "Python 3",
   "language": "python",
   "name": "python3"
  },
  "language_info": {
   "codemirror_mode": {
    "name": "ipython",
    "version": 3
   },
   "file_extension": ".py",
   "mimetype": "text/x-python",
   "name": "python",
   "nbconvert_exporter": "python",
   "pygments_lexer": "ipython3",
   "version": "3.7.3"
  }
 },
 "nbformat": 4,
 "nbformat_minor": 2
}

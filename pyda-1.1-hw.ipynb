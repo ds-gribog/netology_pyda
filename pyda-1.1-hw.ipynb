{
 "cells": [
  {
   "cell_type": "markdown",
   "metadata": {},
   "source": [
    "**Задание 1**. Даны 2 строки: *long_phrase* и *short_phrase*. \n",
    "Напишите код, который проверяет действительно ли длинная фраза *long_phrase* длиннее короткой *short_phrase*. И выводит *True* или *False* в зависимости от результата сравнения."
   ]
  },
  {
   "cell_type": "code",
   "execution_count": null,
   "metadata": {},
   "outputs": [],
   "source": [
    "long_phrase = 'Насколько проще было бы писать программы, если бы не заказчики'\n",
    "short_phrase = '640Кб должно хватить для любых задач. Билл Гейтс (по легенде)'"
   ]
  },
  {
   "cell_type": "code",
   "execution_count": null,
   "metadata": {},
   "outputs": [],
   "source": [
    "long_phrase = 'Насколько проще было бы писать программы, если бы не заказчики'\n",
    "short_phrase = '640Кб должно хватить для любых задач. Билл Гейтс (по легенде)'\n",
    "len(long_phrase)>len(short_phrase)"
   ]
  },
  {
   "cell_type": "markdown",
   "metadata": {},
   "source": [
    "**Задание 2**. Дано значение объема файла в байтах. Напишите перевод этого значения в мегабайты в формате: \"*Объем файла равен 213.68Mb*\""
   ]
  },
  {
   "cell_type": "code",
   "execution_count": null,
   "metadata": {},
   "outputs": [],
   "source": [
    "weight = int(input('Вес:'))\n",
    "print('Объём файла равен ', round(weight/1000,2),'Mb',sep='')"
   ]
  },
  {
   "cell_type": "markdown",
   "metadata": {},
   "source": [
    "**Задание 3**. Разработать приложение для определения знака зодиака по дате рождения. Пример:\n",
    "\n",
    "Введите месяц: март\n",
    "\n",
    "Введите число: 6\n",
    "\n",
    "Вывод:\n",
    "Рыбы"
   ]
  },
  {
   "cell_type": "code",
   "execution_count": null,
   "metadata": {},
   "outputs": [],
   "source": [
    "your_month=input(\"Месяц:\")\n",
    "your_date=int(input(\"День:\"))\n",
    "\n",
    "from datetime import datetime, timedelta ,sys\n",
    "\n",
    "\n",
    "if your_month.lower() == \"март\":\n",
    "    month=3\n",
    "elif your_month.lower() == \"апрель\":\n",
    "    month=4\n",
    "elif your_month.lower() == \"май\":\n",
    "    month=5  \n",
    "else:\n",
    "  sys.exit('I don`t now this month. Please try again') #ну тут по всем месяцам лень расписывать\n",
    "\n",
    "if datetime(2019,month,your_date) >= datetime(2019,2,21) and  datetime(2019,month,your_date) <= datetime(2019,3,20):\n",
    "    znak_z=\"рыба\"\n",
    "elif datetime(2019,month,your_date) >= datetime(2019,3,21) and  datetime(2019,month,your_date) <= datetime(2019,4,20):\n",
    "    znak_z=\"овен\"\n",
    "elif datetime(2019,month,your_date) >= datetime(2019,4,21) and  datetime(2019,month,your_date) <= datetime(2019,5,20):\n",
    "    znak_z=\"телец\"\n",
    "else:\n",
    "    sys.exit('somethink went wrong')\n",
    "print(znak_z)"
   ]
  },
  {
   "cell_type": "markdown",
   "metadata": {},
   "source": [
    "**Задание 4**. Нужно разработать приложение для финансового планирования.\n",
    "Приложение учитывает сколько уходит на ипотеку, \"на жизнь\" и сколько нужно отложить на пенсию.\n",
    "Пользователь вводит:\n",
    "- заработанную плату в месяц.\n",
    "- сколько процентов от ЗП уходит на ипотеку.\n",
    "- сколько процентов от ЗП уходит \"на жизнь\".\n",
    "- сколько раз приходит премия в год.\n",
    "\n",
    "Остальная часть заработанной платы откладывается на пенсию.\n",
    "\n",
    "Также пользователю приходит премия в размере зарплаты, от которой половина уходит на отпуск, а вторая половина откладывается.\n",
    "\n",
    "Программа должна учитывать сколько премий было в год.\n",
    "\n",
    "Нужно вывести сколько денег тратит пользователь на ипотеку и сколько он накопит за год.\n",
    "\n",
    "Пример:\n",
    "\n",
    "Введите заработанную плату в месяц: 100000\n",
    "\n",
    "Введите сколько процентов уходит на ипотеку: 30\n",
    "\n",
    "Введите сколько процентов уходит на жизнь: 50\n",
    "\n",
    "Введите количество премий за год: 2\n",
    "\n",
    "Вывод:\n",
    "На ипотеку было потрачено: 360000 рублей\n",
    "Было накоплено: 340000 рублей"
   ]
  },
  {
   "cell_type": "code",
   "execution_count": null,
   "metadata": {},
   "outputs": [],
   "source": [
    "salary = int(input('Введите заработанную плату в месяц: '))\n",
    "mortgage_interest = int(input('Введите сколько процентов уходит на ипотеку: '))\n",
    "percentage_on_life = int(input('Введите сколько процентов уходит на жизнь: '))\n",
    "number_of_awards= int(input('Введите количество премий за год: '))\n",
    "\n",
    "print('На ипотеку было потрачено: ',round((salary*12)*(mortgage_interest/100),2),'руб. Было накоплено: ',round((salary*12)*((100-(mortgage_interest+percentage_on_life))/100)+salary*number_of_awards/2,2) ,'руб.')"
   ]
  }
 ],
 "metadata": {
  "kernelspec": {
   "display_name": "Python 3",
   "language": "python",
   "name": "python3"
  },
  "language_info": {
   "codemirror_mode": {
    "name": "ipython",
    "version": 3
   },
   "file_extension": ".py",
   "mimetype": "text/x-python",
   "name": "python",
   "nbconvert_exporter": "python",
   "pygments_lexer": "ipython3",
   "version": "3.7.3"
  }
 },
 "nbformat": 4,
 "nbformat_minor": 2
}

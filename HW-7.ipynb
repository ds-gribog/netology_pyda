{
 "cells": [
  {
   "cell_type": "markdown",
   "metadata": {},
   "source": [
    "# Задание 1\n",
    "\n",
    "Напишите функцию date_range, которая возвращает список дней между датами start_date и end_date. Даты должны вводиться в формате YYYY-MM-DD."
   ]
  },
  {
   "cell_type": "code",
   "execution_count": 5,
   "metadata": {},
   "outputs": [
    {
     "name": "stdout",
     "output_type": "stream",
     "text": [
      "Введите дату начала (YYYY-MM-DD): 2019-01-01\n",
      "Введите дату конца (YYYY-MM-DD): 2019-01-04\n",
      "2019-01-01\n",
      "2019-01-02\n",
      "2019-01-03\n"
     ]
    }
   ],
   "source": [
    "from datetime import datetime\n",
    "from datetime import timedelta\n",
    "\n",
    "\n",
    "\n",
    "def funct():\n",
    "    date_start = input(\"Введите дату начала (YYYY-MM-DD): \")\n",
    "    date_end = input(\"Введите дату конца (YYYY-MM-DD): \")\n",
    "    start_date = datetime.strptime(date_start, \"%Y-%m-%d\")\n",
    "    end_date = datetime.strptime(date_end, \"%Y-%m-%d\")\n",
    "    for x in range(0, (end_date-start_date).days):\n",
    "        date_and_time = (start_date + timedelta(days=x)).strftime((\"%Y-%m-%d\"))\n",
    "        print(date_and_time)\n",
    "\n",
    "funct()"
   ]
  },
  {
   "cell_type": "markdown",
   "metadata": {},
   "source": [
    "# Задание 2\n",
    "\n",
    "Дополните функцию из первого задания проверкой на корректность дат. В случае неверного формата или если start_date > end_date должен возвращаться пустой список.\n",
    "\n"
   ]
  },
  {
   "cell_type": "code",
   "execution_count": 15,
   "metadata": {},
   "outputs": [
    {
     "name": "stdout",
     "output_type": "stream",
     "text": [
      "Введите дату начала (YYYY-MM-DD): 2019-01-0111\n",
      "Введите дату конца (YYYY-MM-DD): 1202010\n",
      "[]\n"
     ]
    },
    {
     "ename": "SystemExit",
     "evalue": "",
     "output_type": "error",
     "traceback": [
      "An exception has occurred, use %tb to see the full traceback.\n",
      "\u001b[1;31mSystemExit\u001b[0m\n"
     ]
    }
   ],
   "source": [
    "from datetime import datetime\n",
    "from datetime import timedelta\n",
    "import sys\n",
    "\n",
    "\n",
    "        \n",
    "def funct():\n",
    "    date1 = input(\"Введите дату начала (YYYY-MM-DD): \")\n",
    "    date2 = input(\"Введите дату конца (YYYY-MM-DD): \")\n",
    "    \n",
    "    try:\n",
    "        start_date = datetime.strptime(date1, \"%Y-%m-%d\")\n",
    "        end_date = datetime.strptime(date2, \"%Y-%m-%d\")\n",
    "    except ValueError:\n",
    "        only_date = []\n",
    "        print(only_date)\n",
    "        sys.exit()\n",
    "        \n",
    "    if start_date<=end_date:\n",
    "        for x in range(0, (end_date-start_date).days):\n",
    "            date_and_time = (start_date + timedelta(days=x))\n",
    "            only_date = date_and_time.strftime(\"%Y-%m-%d\")\n",
    "            print(only_date)\n",
    "    else:\n",
    "        only_date = []\n",
    "        print(only_date)\n",
    "\n",
    "funct()"
   ]
  },
  {
   "cell_type": "markdown",
   "metadata": {},
   "source": [
    "# Задание 3\n",
    "\n",
    "Дан поток дат в формате YYYY-MM-DD, в которых встречаются некорректные значения: stream = [‘2018-04-02’, ‘2018-02-29’, ‘2018-19-02’]\n",
    "\n",
    "Напишите функцию, которая проверяет эти даты на корректность. Т. е. для каждой даты возвращает True (дата корректна) или False (некорректная дата)."
   ]
  },
  {
   "cell_type": "code",
   "execution_count": 18,
   "metadata": {},
   "outputs": [
    {
     "name": "stdout",
     "output_type": "stream",
     "text": [
      "true 2018-04-02\n",
      "false 2018-02-29\n",
      "false 2018-19-02\n"
     ]
    }
   ],
   "source": [
    "stream = [\"2018-04-02\", \"2018-02-29\", \"2018-19-02\"]\n",
    "\n",
    "def date_correctness():\n",
    "    for x in stream:\n",
    "        try:\n",
    "            if datetime.strptime(x, \"%Y-%m-%d\"):\n",
    "                print(\"true\",x)\n",
    "        except:\n",
    "            print(\"false \" + x)\n",
    "            \n",
    "date_correctness()"
   ]
  },
  {
   "cell_type": "code",
   "execution_count": null,
   "metadata": {},
   "outputs": [],
   "source": []
  }
 ],
 "metadata": {
  "kernelspec": {
   "display_name": "Python 3",
   "language": "python",
   "name": "python3"
  },
  "language_info": {
   "codemirror_mode": {
    "name": "ipython",
    "version": 3
   },
   "file_extension": ".py",
   "mimetype": "text/x-python",
   "name": "python",
   "nbconvert_exporter": "python",
   "pygments_lexer": "ipython3",
   "version": "3.7.3"
  }
 },
 "nbformat": 4,
 "nbformat_minor": 2
}
